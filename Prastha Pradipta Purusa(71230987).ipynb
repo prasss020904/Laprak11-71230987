{
 "cells": [
  {
   "cell_type": "code",
   "execution_count": 1,
   "id": "bf3e14ce",
   "metadata": {},
   "outputs": [
    {
     "name": "stdout",
     "output_type": "stream",
     "text": [
      "Dictionary : {1: 10, 2: 20, 3: 30, 4: 40, 5: 50, 6: 60}\n",
      "key\tvalue\titem\n",
      "1 \t 10 \t 1\n",
      "2 \t 20 \t 2\n",
      "3 \t 30 \t 3\n",
      "4 \t 40 \t 4\n",
      "5 \t 50 \t 5\n",
      "6 \t 60 \t 6\n"
     ]
    }
   ],
   "source": [
    "dictionary = {1: 10, 2: 20, 3: 30, 4: 40, 5: 50, 6: 60}\n",
    "print(\"Dictionary :\",dictionary)\n",
    "print(\"key\\tvalue\\titem\")\n",
    "for key , value in dictionary.items():\n",
    "    print(key,\"\\t\",value,\"\\t\",key)"
   ]
  },
  {
   "cell_type": "code",
   "execution_count": 2,
   "id": "13190668",
   "metadata": {},
   "outputs": [
    {
     "name": "stdout",
     "output_type": "stream",
     "text": [
      "Data List\n",
      "Lista = ['red', 'green', 'blue']\n",
      "Listb = ['#FF0000', '#008000', '#0000FF']\n",
      "Output\n",
      "{'red': '#FF0000', 'green': '#008000', 'blue': '#0000FF'}\n"
     ]
    }
   ],
   "source": [
    "Lista = ['red', 'green', 'blue']\n",
    "Listb = ['#FF0000', '#008000', '#0000FF']\n",
    "output = {}\n",
    "for i in range(len(Lista)):\n",
    "    output[Lista[i]] = Listb[i]\n",
    "print(\"Data List\")\n",
    "print(\"Lista =\",Lista)\n",
    "print(\"Listb =\",Listb)\n",
    "print(\"Output\")\n",
    "print(output)"
   ]
  },
  {
   "cell_type": "code",
   "execution_count": null,
   "id": "7b20d188",
   "metadata": {},
   "outputs": [],
   "source": [
    "filename = input(\"Masukkan nama file: \")\n",
    "file = open(filename, 'r')\n",
    "dict = {}\n",
    "\n",
    "for i in file:\n",
    "    if i.startswith('From '):\n",
    "        email = i.split()[1]\n",
    "        dict[email] = dict.get(email, 0) + 1\n",
    "\n",
    "file.close()\n",
    "print(dict)"
   ]
  },
  {
   "cell_type": "code",
   "execution_count": null,
   "id": "d9628170",
   "metadata": {},
   "outputs": [],
   "source": [
    "filename = input(\"Masukkan nama file: \")\n",
    "file = open(filename, 'r')\n",
    "dict = {}\n",
    "\n",
    "for i in file:\n",
    "    if i.startswith('From '):\n",
    "        email = i.split()[1]\n",
    "        domain = email.split('@')[-1]\n",
    "        dict[domain] = dict.get(domain, 0) + 1\n",
    "\n",
    "file.close()\n",
    "print(dict)"
   ]
  }
 ],
 "metadata": {
  "kernelspec": {
   "display_name": "Python 3 (ipykernel)",
   "language": "python",
   "name": "python3"
  },
  "language_info": {
   "codemirror_mode": {
    "name": "ipython",
    "version": 3
   },
   "file_extension": ".py",
   "mimetype": "text/x-python",
   "name": "python",
   "nbconvert_exporter": "python",
   "pygments_lexer": "ipython3",
   "version": "3.11.5"
  }
 },
 "nbformat": 4,
 "nbformat_minor": 5
}
